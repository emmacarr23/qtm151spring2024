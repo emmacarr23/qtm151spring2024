{
 "cells": [
  {
   "cell_type": "markdown",
   "metadata": {},
   "source": [
    "<font size = '5'>Do Racers Perform Better in their Home Countries? - QTM 151 Final Project</font>\n",
    "\n",
    "<font size = '3'>Emma Carrier, Sabrina Sung, Ted Zhang</font>"
   ]
  },
  {
   "cell_type": "markdown",
   "metadata": {},
   "source": [
    "<font size = '5'>Introduction</font>\n",
    "\n",
    "Formula 1 is the most popular auto racing sport in the world, where contestants aim to complete a specified number of laps around the track in the fastest possible time. In a race called a Grand Prix, contestants drive in cars optimized to drive around the track as fast as possible. We are interested in whether drivers perform better on circuits located in their home countries.\n",
    "\n",
    "To answer this question, we started by matching the drivers’ nationalities with countries where circuits are located. To do this, we matched the first three letters of drivers’ nationalities to the first three letters of the country. Next, using data from four datasets—results, circuits, races, and drivers—we merged information from the four datasets together. We then cleaned the data by addressing discrepancies between terms used to refer to each country. For example, we replaced “UK” with “Britain” and “East German” with “German”. We then input the cleaned data into a function that examines drivers of specific nationalities and their performance in races that occur in their home country as well as races that occur outside of that country. This information is consolidated into a dataframe which we pivoted to be more comprehendible. The dataframe includes the drivers’ nationalities and whether the track is in their home country (True) or not (False). Finally, to track driver performance, we calculated and compared the average positions of each column.\n",
    "\n",
    "We found that, with an average position of 13.27 of drivers competing in races that did not take place in their home country and 13.99 for drivers competing in circuits located in their home country, there is not a significant difference. The difference 0.72 between the two values does not strongly indicate drivers perform better in their home countries."
   ]
  },
  {
   "cell_type": "markdown",
   "metadata": {},
   "source": [
    "<font size = '5'>Data Description</font>\n",
    "\n",
    "We are using the following dataset tables: results, circuits, races, and drivers.\n",
    "\n",
    "The results table summarizes race results of specific drivers and includes, among other data, the unique driver IDs, the driver's points, and the laps. Each row shows specific drivers' results across multiple races spanning from  1950 to 2022. There are 25840 results contained in this table.\n",
    "\n",
    "The circuits table provides more information about circuitIDs provided in the results dataset. This dataset includes the official names of the circuits (ex. Albert Park Grand Prix Circuit), location, country, and coordinates of the track. There are 77 rows describing the circuits where Grand Prix races have occurred, with each row providing information about one circuit. These circuits do not have years associated with them.\n",
    "\n",
    "The races table provides information on the races, describing the year the race occurred, the circuit these races occurred on, year,  date, and time, among other variables. There are 1102 rows describing the races in this dataset and each of these rows displays information about each race in the dataset including raceId, year, round, circuitId, name, time, URL. The years range from races in 1950 to races in 2023.\n",
    "\n",
    "The final dataset used is the drivers dataset. There are 857 rows of drivers within the dataset. The dataset provides information including the drivers’ forenames and surnames, driverIds, nationalities, and Wikipedia URLs. This dataset includes drivers born in the year 1896 to drivers born in the year 2001."
   ]
  },
  {
   "cell_type": "code",
   "execution_count": 131,
   "metadata": {},
   "outputs": [],
   "source": [
    "#Required Imports\n",
    "import pandas as pd\n",
    "import numpy as np\n",
    "import matplotlib.pyplot as plt"
   ]
  },
  {
   "cell_type": "code",
   "execution_count": 132,
   "metadata": {},
   "outputs": [
    {
     "data": {
      "text/plain": [
       "resultId           25840\n",
       "raceId             25840\n",
       "driverId           25840\n",
       "constructorId      25840\n",
       "number             25840\n",
       "grid               25840\n",
       "position           25840\n",
       "positionText       25840\n",
       "positionOrder      25840\n",
       "points             25840\n",
       "laps               25840\n",
       "time               25840\n",
       "milliseconds       25840\n",
       "fastestLap         25840\n",
       "rank               25840\n",
       "fastestLapTime     25840\n",
       "fastestLapSpeed    25840\n",
       "statusId           25840\n",
       "dtype: int64"
      ]
     },
     "execution_count": 132,
     "metadata": {},
     "output_type": "execute_result"
    }
   ],
   "source": [
    "# counting the number of rows contained in the results dataset\n",
    "df_results = pd.read_csv(\"data_raw/results.csv\")\n",
    "df_results.count()"
   ]
  },
  {
   "cell_type": "code",
   "execution_count": 133,
   "metadata": {},
   "outputs": [
    {
     "data": {
      "text/plain": [
       "circuitId     77\n",
       "circuitRef    77\n",
       "name          77\n",
       "location      77\n",
       "country       77\n",
       "lat           77\n",
       "lng           77\n",
       "alt           77\n",
       "url           77\n",
       "dtype: int64"
      ]
     },
     "execution_count": 133,
     "metadata": {},
     "output_type": "execute_result"
    }
   ],
   "source": [
    "# counting the number of rows contained in the circuits dataset\n",
    "df_circuits = pd.read_csv(\"data_raw/circuits.csv\")\n",
    "df_circuits.count()"
   ]
  },
  {
   "cell_type": "code",
   "execution_count": 134,
   "metadata": {},
   "outputs": [
    {
     "data": {
      "text/plain": [
       "raceId         1102\n",
       "year           1102\n",
       "round          1102\n",
       "circuitId      1102\n",
       "name           1102\n",
       "date           1102\n",
       "time           1102\n",
       "url            1102\n",
       "fp1_date       1102\n",
       "fp1_time       1102\n",
       "fp2_date       1102\n",
       "fp2_time       1102\n",
       "fp3_date       1102\n",
       "fp3_time       1102\n",
       "quali_date     1102\n",
       "quali_time     1102\n",
       "sprint_date    1102\n",
       "sprint_time    1102\n",
       "dtype: int64"
      ]
     },
     "execution_count": 134,
     "metadata": {},
     "output_type": "execute_result"
    }
   ],
   "source": [
    "# counting the number of rows contained in the races dataset\n",
    "df_races = pd.read_csv(\"data_raw/races.csv\")\n",
    "df_races.count()"
   ]
  },
  {
   "cell_type": "code",
   "execution_count": 135,
   "metadata": {},
   "outputs": [
    {
     "data": {
      "text/plain": [
       "driverId       857\n",
       "driverRef      857\n",
       "number         857\n",
       "code           857\n",
       "forename       857\n",
       "surname        857\n",
       "dob            857\n",
       "nationality    857\n",
       "url            857\n",
       "dtype: int64"
      ]
     },
     "execution_count": 135,
     "metadata": {},
     "output_type": "execute_result"
    }
   ],
   "source": [
    "# counting the number of rows contained in the drivers dataset\n",
    "df_drivers = pd.read_csv(\"data_raw/drivers.csv\")\n",
    "df_drivers.count()"
   ]
  },
  {
   "cell_type": "markdown",
   "metadata": {},
   "source": [
    "<font size = '5'>Merging</font>\n",
    "\n",
    "We identified four datasets of interest: results, circuits, races, and drivers. Merging these four datasets would collect each racer’s position, nationality, driverId, name, and each race’s country of location. We conducted three left joints to get a 25840 by 28 table. Also, instead of joining all the columns together, we only took a few columns from each dataset."
   ]
  },
  {
   "cell_type": "code",
   "execution_count": 136,
   "metadata": {},
   "outputs": [],
   "source": [
    "# Merging\n",
    "df_results_races = pd.merge(df_results,\n",
    "                            df_races[[\"raceId\", \"circuitId\", \"name\"]],\n",
    "                            on= \"raceId\",\n",
    "                            how= \"left\")\n",
    "\n",
    "df_3 = pd.merge(df_results_races,\n",
    "                df_circuits[[\"circuitId\", \"country\"]],\n",
    "                on=\"circuitId\",\n",
    "                how = \"left\")\n",
    "\n",
    "df_merged = pd.merge(df_3,\n",
    "                     df_drivers[[\"driverId\", \"driverRef\", \"number\", \"code\", \"forename\", \"surname\", \"nationality\"]],\n",
    "                     on=\"driverId\",\n",
    "                     how = \"left\")"
   ]
  },
  {
   "cell_type": "code",
   "execution_count": 137,
   "metadata": {},
   "outputs": [],
   "source": [
    "df_merged[\"country\"] = df_merged[\"country\"].replace(\"UK\", \"British\")\n",
    "df_merged[\"nationality\"] = df_merged[\"nationality\"].replace(\"French\", \"Fra\")\n",
    "df_merged[\"country\"] = df_merged[\"country\"].replace(\"USA\", \"American\")\n",
    "df_merged[\"nationality\"] = df_merged[\"nationality\"].replace(\"East German\", \"German\")\n",
    "df_merged[\"nationality\"] = df_merged[\"nationality\"].replace(\"Dutch\", \"Net\")\n",
    "df_merged[\"nationality\"] = df_merged[\"nationality\"].replace(\"Chilean\", \"Chhilean\")\n",
    "df_merged[\"nationality\"] = df_merged[\"nationality\"].replace(\"American-Italian\", \"American\")\n",
    "df_merged[\"nationality\"] = df_merged[\"nationality\"].replace(\"Argentine-Italian\", \"Italian\")"
   ]
  },
  {
   "cell_type": "markdown",
   "metadata": {},
   "source": [
    "<font size = '5'>Data Cleaning</font>\n",
    "\n",
    "The first data cleaning problem was matching the nationality of the driver with the country the race was located in. Manually looking through all the unique values, we realized most countries’ first three letters are the same, apart from a few, such as USA vs American, France vs French, Netherlands vs. Dutch, etc. This caused us to rename these rows so the country and nationality names match. Then, we wrote a function that automatically creates a data frame that has three columns: “home country t/f”, “mean_position”, and “nationality”, when inputting our merged dataset and a selected nationality. Lastly, we made a for-loop that feeds each nationality into the function to create the final results dataset."
   ]
  },
  {
   "cell_type": "code",
   "execution_count": 138,
   "metadata": {},
   "outputs": [],
   "source": [
    "# function that returns a dataframe of the avg position of the person in races that occur in their home country or not\n",
    "def sorting1(df, nationality):\n",
    "    filtered_df = df[df['nationality'] == nationality]\n",
    "    code = nationality[0:3]\n",
    "    filtered_df['home country t/f'] = None\n",
    "    for i in filtered_df.index:\n",
    "        if filtered_df.loc[i, 'country'][0:3] == code:\n",
    "            filtered_df.loc[i, 'home country t/f'] = True\n",
    "        else:\n",
    "            filtered_df.loc[i, 'home country t/f'] = False\n",
    "    value_counts = filtered_df['home country t/f'].value_counts()\n",
    "    results = filtered_df.groupby('home country t/f').agg(mean_position = ('positionOrder', 'mean'))\n",
    "    results.reset_index(inplace = True)\n",
    "    results[\"nationality\"] = nationality\n",
    "    return results"
   ]
  },
  {
   "cell_type": "code",
   "execution_count": null,
   "metadata": {},
   "outputs": [],
   "source": [
    "# Loop that appends result from the function to one dataframe\n",
    "list_full = list(df_merged[\"nationality\"].unique())\n",
    "\n",
    "df_results = pd.DataFrame()\n",
    "for i in list_full:\n",
    "    df_results = df_results._append(sorting1(df_merged, i), ignore_index = True)\n"
   ]
  },
  {
   "cell_type": "code",
   "execution_count": 140,
   "metadata": {},
   "outputs": [
    {
     "data": {
      "text/html": [
       "<div>\n",
       "<style scoped>\n",
       "    .dataframe tbody tr th:only-of-type {\n",
       "        vertical-align: middle;\n",
       "    }\n",
       "\n",
       "    .dataframe tbody tr th {\n",
       "        vertical-align: top;\n",
       "    }\n",
       "\n",
       "    .dataframe thead th {\n",
       "        text-align: right;\n",
       "    }\n",
       "</style>\n",
       "<table border=\"1\" class=\"dataframe\">\n",
       "  <thead>\n",
       "    <tr style=\"text-align: right;\">\n",
       "      <th>home country t/f</th>\n",
       "      <th>nationality</th>\n",
       "      <th>False</th>\n",
       "      <th>True</th>\n",
       "    </tr>\n",
       "  </thead>\n",
       "  <tbody>\n",
       "    <tr>\n",
       "      <th>0</th>\n",
       "      <td>American</td>\n",
       "      <td>12.723684</td>\n",
       "      <td>16.180422</td>\n",
       "    </tr>\n",
       "    <tr>\n",
       "      <th>1</th>\n",
       "      <td>Argentine</td>\n",
       "      <td>11.653374</td>\n",
       "      <td>9.212766</td>\n",
       "    </tr>\n",
       "    <tr>\n",
       "      <th>2</th>\n",
       "      <td>Australian</td>\n",
       "      <td>11.242188</td>\n",
       "      <td>11.471698</td>\n",
       "    </tr>\n",
       "    <tr>\n",
       "      <th>3</th>\n",
       "      <td>Austrian</td>\n",
       "      <td>12.116719</td>\n",
       "      <td>12.142857</td>\n",
       "    </tr>\n",
       "    <tr>\n",
       "      <th>4</th>\n",
       "      <td>Belgian</td>\n",
       "      <td>15.139048</td>\n",
       "      <td>13.878788</td>\n",
       "    </tr>\n",
       "    <tr>\n",
       "      <th>5</th>\n",
       "      <td>Brazilian</td>\n",
       "      <td>12.280262</td>\n",
       "      <td>13.075630</td>\n",
       "    </tr>\n",
       "    <tr>\n",
       "      <th>6</th>\n",
       "      <td>British</td>\n",
       "      <td>11.647612</td>\n",
       "      <td>13.593361</td>\n",
       "    </tr>\n",
       "    <tr>\n",
       "      <th>7</th>\n",
       "      <td>Canadian</td>\n",
       "      <td>12.111905</td>\n",
       "      <td>13.718750</td>\n",
       "    </tr>\n",
       "    <tr>\n",
       "      <th>8</th>\n",
       "      <td>French</td>\n",
       "      <td>13.310592</td>\n",
       "      <td>12.232877</td>\n",
       "    </tr>\n",
       "    <tr>\n",
       "      <th>9</th>\n",
       "      <td>German</td>\n",
       "      <td>11.491268</td>\n",
       "      <td>12.544601</td>\n",
       "    </tr>\n",
       "    <tr>\n",
       "      <th>10</th>\n",
       "      <td>Hungarian</td>\n",
       "      <td>15.277778</td>\n",
       "      <td>15.500000</td>\n",
       "    </tr>\n",
       "    <tr>\n",
       "      <th>11</th>\n",
       "      <td>Indian</td>\n",
       "      <td>18.385965</td>\n",
       "      <td>19.000000</td>\n",
       "    </tr>\n",
       "    <tr>\n",
       "      <th>12</th>\n",
       "      <td>Italian</td>\n",
       "      <td>15.352404</td>\n",
       "      <td>15.751073</td>\n",
       "    </tr>\n",
       "    <tr>\n",
       "      <th>13</th>\n",
       "      <td>Japanese</td>\n",
       "      <td>15.898451</td>\n",
       "      <td>15.074074</td>\n",
       "    </tr>\n",
       "    <tr>\n",
       "      <th>14</th>\n",
       "      <td>Malaysian</td>\n",
       "      <td>15.800000</td>\n",
       "      <td>17.000000</td>\n",
       "    </tr>\n",
       "    <tr>\n",
       "      <th>15</th>\n",
       "      <td>Mexican</td>\n",
       "      <td>11.722500</td>\n",
       "      <td>9.909091</td>\n",
       "    </tr>\n",
       "    <tr>\n",
       "      <th>16</th>\n",
       "      <td>Monegasque</td>\n",
       "      <td>9.214876</td>\n",
       "      <td>15.818182</td>\n",
       "    </tr>\n",
       "    <tr>\n",
       "      <th>17</th>\n",
       "      <td>Dutch</td>\n",
       "      <td>12.655629</td>\n",
       "      <td>14.888889</td>\n",
       "    </tr>\n",
       "    <tr>\n",
       "      <th>18</th>\n",
       "      <td>Portuguese</td>\n",
       "      <td>16.851852</td>\n",
       "      <td>18.000000</td>\n",
       "    </tr>\n",
       "    <tr>\n",
       "      <th>19</th>\n",
       "      <td>Russian</td>\n",
       "      <td>13.751220</td>\n",
       "      <td>12.750000</td>\n",
       "    </tr>\n",
       "    <tr>\n",
       "      <th>20</th>\n",
       "      <td>South African</td>\n",
       "      <td>11.039735</td>\n",
       "      <td>15.677966</td>\n",
       "    </tr>\n",
       "    <tr>\n",
       "      <th>21</th>\n",
       "      <td>Spanish</td>\n",
       "      <td>11.507227</td>\n",
       "      <td>11.983607</td>\n",
       "    </tr>\n",
       "    <tr>\n",
       "      <th>22</th>\n",
       "      <td>Swedish</td>\n",
       "      <td>13.760563</td>\n",
       "      <td>16.076923</td>\n",
       "    </tr>\n",
       "    <tr>\n",
       "      <th>23</th>\n",
       "      <td>Swiss</td>\n",
       "      <td>13.645963</td>\n",
       "      <td>10.384615</td>\n",
       "    </tr>\n",
       "  </tbody>\n",
       "</table>\n",
       "</div>"
      ],
      "text/plain": [
       "home country t/f    nationality      False       True\n",
       "0                      American  12.723684  16.180422\n",
       "1                     Argentine  11.653374   9.212766\n",
       "2                    Australian  11.242188  11.471698\n",
       "3                      Austrian  12.116719  12.142857\n",
       "4                       Belgian  15.139048  13.878788\n",
       "5                     Brazilian  12.280262  13.075630\n",
       "6                       British  11.647612  13.593361\n",
       "7                      Canadian  12.111905  13.718750\n",
       "8                        French  13.310592  12.232877\n",
       "9                        German  11.491268  12.544601\n",
       "10                    Hungarian  15.277778  15.500000\n",
       "11                       Indian  18.385965  19.000000\n",
       "12                      Italian  15.352404  15.751073\n",
       "13                     Japanese  15.898451  15.074074\n",
       "14                    Malaysian  15.800000  17.000000\n",
       "15                      Mexican  11.722500   9.909091\n",
       "16                   Monegasque   9.214876  15.818182\n",
       "17                        Dutch  12.655629  14.888889\n",
       "18                   Portuguese  16.851852  18.000000\n",
       "19                      Russian  13.751220  12.750000\n",
       "20                South African  11.039735  15.677966\n",
       "21                      Spanish  11.507227  11.983607\n",
       "22                      Swedish  13.760563  16.076923\n",
       "23                        Swiss  13.645963  10.384615"
      ]
     },
     "metadata": {},
     "output_type": "display_data"
    }
   ],
   "source": [
    "# pivot the dataframe to have columns nationality, true, false\n",
    "df_results_pivot = (df_results.pivot(index = \"nationality\", columns = \"home country t/f\", values = \"mean_position\")\n",
    "           .dropna())\n",
    "\n",
    "df_results_pivot = df_results_pivot.reset_index()\n",
    "\n",
    "df_results_pivot[\"nationality\"] = (df_results_pivot[\"nationality\"]\n",
    "                                   .replace(\"Fra\", \"French\")\n",
    "                                   .replace(\"Net\", \"Dutch\"))\n",
    "\n",
    "display(df_results_pivot)"
   ]
  },
  {
   "cell_type": "markdown",
   "metadata": {},
   "source": [
    "<font size = '5'>Main Columns</font>\n",
    "\n",
    "We used three columns for our data analysis: nationality, true, and false. These columns let us see what the average position was for each nationality if a race occured within their home country (true) or not (false). The code chunk below calculates the average value for the entire column. The average position for a race that occurs in the driver's home country is 13.994, and the average for races that don't occur in the driver's home country is 13.274."
   ]
  },
  {
   "cell_type": "code",
   "execution_count": 141,
   "metadata": {},
   "outputs": [
    {
     "name": "stdout",
     "output_type": "stream",
     "text": [
      "13.274200589984218\n",
      "13.994423751193395\n"
     ]
    }
   ],
   "source": [
    "avg_false = np.mean(df_results_pivot[False])\n",
    "print(avg_false)\n",
    "\n",
    "avg_true = np.mean(df_results_pivot[True])\n",
    "print(avg_true)"
   ]
  },
  {
   "cell_type": "markdown",
   "metadata": {},
   "source": [
    "<font size = '5'>Results</font>\n",
    "\n",
    "The code chunk below creates a grouped bar chart that displays the true and false values for each nationality. When looking at the graph, it is clear that for most nationalities, there is not a large differnece between the average position for the true and false conditions. This is also reflected in the averages calculated in the cell above."
   ]
  },
  {
   "cell_type": "code",
   "execution_count": 142,
   "metadata": {},
   "outputs": [
    {
     "data": {
      "image/png": "[encoded data removed]",
      "text/plain": [
       "<Figure size 1400x800 with 1 Axes>"
      ]
     },
     "metadata": {},
     "output_type": "display_data"
    }
   ],
   "source": [
    "#grouped bar chart that shows the mean position for each nationality\n",
    "nationalities = df_results_pivot['nationality']\n",
    "true_values = df_results_pivot[True]\n",
    "false_values = df_results_pivot[False]\n",
    "\n",
    "bar_width = 0.35\n",
    "\n",
    "r1 = np.arange(len(nationalities))\n",
    "r2 = [x + bar_width for x in r1]\n",
    "\n",
    "plt.figure(figsize=(14, 8))\n",
    "plt.bar(r1, false_values, color='salmon', width=bar_width, edgecolor='grey', label='False')\n",
    "plt.bar(r2, true_values, color='skyblue', width=bar_width, edgecolor='grey', label='True')\n",
    "\n",
    "plt.xlabel('Nationality', fontweight='bold')\n",
    "plt.ylabel('Mean Position', fontweight='bold')\n",
    "plt.title(\"Mean Position of Drivers Racing in Home Country vs. Non-Home Country, by Racers' Nationality\", fontweight='bold')\n",
    "plt.xticks([r + bar_width/2 for r in range(len(nationalities))], nationalities, rotation=45)\n",
    "plt.legend()\n",
    "\n",
    "plt.show()"
   ]
  },
  {
   "cell_type": "markdown",
   "metadata": {},
   "source": [
    "<font size = '5'>Discussion</font>\n",
    "\n",
    "After conducting our analysis, we found that on average, whether or not the race occurs in the driver's home country does not have an effect on their final position. The average positioning for a race occuring outside of a driver's home country is actually slightly higher than one within their home country.\n",
    "In the future, we could run a similar analysis on a select assortment of racers (like top 10 in the world) to see if there is a difference within this subset of the 'drivers' dataset.\n"
   ]
  }
 ],
 "metadata": {
  "kernelspec": {
   "display_name": "base",
   "language": "python",
   "name": "python3"
  },
  "language_info": {
   "codemirror_mode": {
    "name": "ipython",
    "version": 3
   },
   "file_extension": ".py",
   "mimetype": "text/x-python",
   "name": "python",
   "nbconvert_exporter": "python",
   "pygments_lexer": "ipython3",
   "version": "3.11.5"
  }
 },
 "nbformat": 4,
 "nbformat_minor": 2
}
