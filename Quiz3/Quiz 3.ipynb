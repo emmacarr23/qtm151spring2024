{
 "cells": [
  {
   "attachments": {},
   "cell_type": "markdown",
   "metadata": {},
   "source": [
    "# <span style=\"color:darkblue\"> QTM 151 - Quiz 3 </span>"
   ]
  },
  {
   "attachments": {},
   "cell_type": "markdown",
   "metadata": {},
   "source": [
    "## Try to submit as an HTML file"
   ]
  },
  {
   "attachments": {},
   "cell_type": "markdown",
   "metadata": {},
   "source": [
    "<font size=\"5\"> \n",
    "\n",
    "Print your name below"
   ]
  },
  {
   "cell_type": "code",
   "execution_count": null,
   "metadata": {},
   "outputs": [],
   "source": [
    "print('Emma Carrier')\n"
   ]
  },
  {
   "attachments": {},
   "cell_type": "markdown",
   "metadata": {},
   "source": [
    "<font size = \"5\" >\n",
    "This quiz is open book \n",
    "\n",
    "- You can use the lecture notes\n",
    "- You will get partial credit for attempting the questions\n",
    "- To get full credit, the code should run as intended\n",
    "- You should <span style=\"color:red\"> NOT </span> communicate with other students\n",
    "\n",
    "Print the following message: <br>\n",
    "\n",
    "\"I will abide by Emory's code of conduct\"\n"
   ]
  },
  {
   "cell_type": "code",
   "execution_count": null,
   "metadata": {},
   "outputs": [],
   "source": [
    "print(\"I will abide by Emory's code of conduct\")\n",
    "\n"
   ]
  },
  {
   "attachments": {},
   "cell_type": "markdown",
   "metadata": {},
   "source": [
    "<font size = \"5\">\n",
    "\n",
    "Import the libraries \"numpy\" and \"pandas\""
   ]
  },
  {
   "cell_type": "code",
   "execution_count": null,
   "metadata": {},
   "outputs": [],
   "source": [
    "import numpy as np\n",
    "import pandas as pd\n",
    "\n",
    "\n"
   ]
  },
  {
   "cell_type": "markdown",
   "metadata": {},
   "source": [
    "\n",
    "<font size = \"5\">\n",
    "\n",
    "(a) Replace the values of a column\n",
    "\n",
    "<font size = \"3\">\n",
    "\n",
    "- Import the \"data_raw/constructors.csv\" file\n",
    "- Replace the values \"British\", \"American\", and \"Dutch\" with <br>\n",
    "\"UK\", \"USA\", \"Netherlands\" in the column \"nationality\"\n",
    "\n",
    "\n",
    "HINT: See the example in Lecture 12"
   ]
  },
  {
   "cell_type": "code",
   "execution_count": null,
   "metadata": {},
   "outputs": [],
   "source": [
    "df = pd.read_csv('data_raw/constructors.csv')\n",
    "\n",
    "df[\"nationality\"] = df[\"nationality\"].replace(\"British\",\"UK\")\n",
    "df[\"nationality\"] = df[\"nationality\"].replace(\"American\",\"USA\")\n",
    "df[\"nationality\"] = df[\"nationality\"].replace(\"Dutch\",\"Netherlands\")\n",
    "\n",
    "display(df)\n",
    "\n"
   ]
  },
  {
   "cell_type": "markdown",
   "metadata": {},
   "source": [
    "<font size = \"5\">\n",
    "\n",
    "\n",
    "<span style=\"color:red\"> For QUESTIONS (b)-(e): </span>\n",
    "\n",
    "<span style=\"color:red\"> Import the \"data_raw/sprint_results.csv\" file </span>\n",
    "\n",
    "\n",
    "(b) Recode a numeric colum\n",
    "\n",
    "<font size = \"3\">\n",
    "\n",
    "- Recode the \"points\" column into a new column \"points_brackets\" <br>\n",
    "with the following categories\n",
    "\n",
    "$\\qquad$ ``` [\"0-20\",\"21-30\",\"31-100\"] ```\n",
    "\n",
    "$\\qquad$ HINT: Use the \"pd.cut()\" command. See Lecture 12 <br>\n",
    "$\\qquad$ HINT: Be careful about the left and right points of <br>\n",
    "$\\qquad$ interval to make sure that you classify the points correctly"
   ]
  },
  {
   "cell_type": "code",
   "execution_count": null,
   "metadata": {},
   "outputs": [],
   "source": [
    "df = pd.read_csv('data_raw/sprint_results.csv')\n",
    "\n",
    "bins_x = [0,20, 21,30, 100]\n",
    "labels_x = [\"Between 0 and 20\",\n",
    "            \"Between 21 and 30\",\n",
    "            \"Between 31 and 100\"]\n",
    "\n",
    "df[\"points_brackets\"] = pd.cut(df[\"points\"],\n",
    "                              bins = bins_x,\n",
    "                              labels = labels_x)\n"
   ]
  },
  {
   "cell_type": "markdown",
   "metadata": {},
   "source": [
    "<font size = \"5\">\n",
    "\n",
    "(c) Aggregate and query\n",
    "\n",
    "<font size = \"3\">\n",
    "\n",
    "- Subset the observations for 'raceId <= 1070' using ```.query()```\n",
    "- Obtain the maximum of \"points\" by \"driverId\" <br>  using ``` .groupby().agg() ``` and save this to <br>\n",
    "a new dataset called \"aggregate_data\"\n",
    "- From \"aggregate_data\" subset the drivers with a maximum number of points $>= 1$\n",
    "- Display the resulting dataset\n",
    "\n",
    "\n",
    "Hint: See Lecture 15"
   ]
  },
  {
   "cell_type": "code",
   "execution_count": null,
   "metadata": {},
   "outputs": [],
   "source": [
    "df = pd.read_csv('data_raw/sprint_results.csv')\n",
    "\n",
    "df_subset = df.query('raceId <= 1070')\n",
    "aggregate_data = df_subset.groupby(\"driverId\").agg(max_points = (\"points\",\"median\"))\n",
    "aggregate_data = aggregate_data.query('max_points >= 1')\n",
    "\n",
    "display(aggregate_data)\n",
    "\n",
    "\n",
    "\n"
   ]
  },
  {
   "cell_type": "markdown",
   "metadata": {},
   "source": [
    "<font size = \"5\">\n",
    "\n",
    "(d) Aggregate and sort\n",
    "\n",
    "<font size = \"3\">\n",
    "\n",
    "- Obtain the mean of \"points\" by \"driverId\" <br>  using ``` .groupby().agg() ```\n",
    "- Sort the drivers in descending order using of <br>\n",
    "the mean of points using ``` .sort_values() ```\n",
    "\n",
    "\n",
    "Hint: See Lecture 15"
   ]
  },
  {
   "cell_type": "code",
   "execution_count": null,
   "metadata": {},
   "outputs": [],
   "source": [
    "df = pd.read_csv('data_raw/sprint_results.csv')\n",
    "\n",
    "df_results = df.groupby(\"driverId\").agg([\"mean\"])\n",
    "df_results = df_results.sort_values(by=\"mean\", ascending=False)\n",
    "\n",
    "\n",
    "display(df_results)\n",
    "\n",
    "\n",
    "\n",
    "\n"
   ]
  },
  {
   "cell_type": "markdown",
   "metadata": {},
   "source": [
    "<font size = \"5\">\n",
    "\n",
    "(e) Rename column\n",
    "\n",
    "<font size = \"3\">\n",
    "\n",
    "- Rename the column \"grid\" to \"grid_placement\"\n",
    "\n",
    "HINT: Create a dictionary and use ```.rename(columns = ...)``` <br>\n",
    "See Lecture 15"
   ]
  },
  {
   "cell_type": "code",
   "execution_count": null,
   "metadata": {},
   "outputs": [],
   "source": [
    "df = pd.read_csv('data_raw/sprint_results.csv')\n",
    "\n",
    "dict_rename = {\"grid\": \"grid_placement\"}\n",
    "df = df.rename(columns = dict_rename)\n",
    "\n",
    "\n"
   ]
  },
  {
   "cell_type": "markdown",
   "metadata": {},
   "source": [
    "<font size = \"5\">\n",
    "\n",
    "(f) Merge dataset\n",
    "\n",
    "<font size = \"3\">\n",
    "\n",
    "- Create a new dataset with  ```pd.merge()``` using <br>\n",
    "\"sprint_results\" as the primary dataset, and <br>\n",
    "\"constructors\" as the secondary dataset, merging on <br>\n",
    "the column \"constructorId\"\n",
    "- To get full points **ONLY** merge the \"nationality\" column <br>\n",
    "from the secondary dataset (not all the columns)\n",
    "\n",
    "HINT: Use ```[[...]]``` to extract a subset of columns <br>\n",
    "from the secondary dataset before merging, including the <br>\n",
    "\"constructorId\" column. <br>\n",
    "Be careful to notice that \"constructorId\" has an uppercase \"I\".\n",
    "\n",
    "See Lecture 15"
   ]
  },
  {
   "cell_type": "code",
   "execution_count": null,
   "metadata": {},
   "outputs": [],
   "source": [
    "df = pd.read_csv('data_raw/sprint_results.csv')\n",
    "df_merge = pd.read_csv('data_raw/constructors.csv')\n",
    "\n",
    "merge = pd.merge(df,\n",
    "                df_merge[[\"nationality\"]],\n",
    "                       on = \"constructorId\",\n",
    "                       how = \"left\")\n",
    "\n",
    "\n",
    "\n",
    "\n"
   ]
  }
 ],
 "metadata": {
  "kernelspec": {
   "display_name": "base",
   "language": "python",
   "name": "python3"
  },
  "language_info": {
   "codemirror_mode": {
    "name": "ipython",
    "version": 3
   },
   "file_extension": ".py",
   "mimetype": "text/x-python",
   "name": "python",
   "nbconvert_exporter": "python",
   "pygments_lexer": "ipython3",
   "version": "3.11.5"
  },
  "orig_nbformat": 4,
  "vscode": {
   "interpreter": {
    "hash": "45fc1f684f6f416f40889115beff3ddf69879b64cf4bfee48cb72a61e9d15d1a"
   }
  }
 },
 "nbformat": 4,
 "nbformat_minor": 2
}
