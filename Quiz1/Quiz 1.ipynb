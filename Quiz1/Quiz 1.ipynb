{
 "cells": [
  {
   "attachments": {},
   "cell_type": "markdown",
   "metadata": {},
   "source": [
    "# <span style=\"color:darkblue\"> QTM 151 - Quiz 1 </span>"
   ]
  },
  {
   "attachments": {},
   "cell_type": "markdown",
   "metadata": {},
   "source": [
    "## Submit as an HTML file"
   ]
  },
  {
   "attachments": {},
   "cell_type": "markdown",
   "metadata": {},
   "source": [
    "<font size=\"5\"> \n",
    "\n",
    "Print your name below"
   ]
  },
  {
   "cell_type": "code",
   "execution_count": null,
   "metadata": {},
   "outputs": [],
   "source": [
    "print('Emma Carrier')\n"
   ]
  },
  {
   "attachments": {},
   "cell_type": "markdown",
   "metadata": {},
   "source": [
    "<font size = \"5\" >\n",
    "This quiz is open book \n",
    "\n",
    "- You can use the lecture notes\n",
    "- You will get partial credit for attempting the questions\n",
    "- To get full credit, the code should your as intended\n",
    "- You should <span style=\"color:red\"> NOT </span> communicate with other students\n",
    "\n",
    "Print the following message: <br>\n",
    "\n",
    "\"I will abide by Emory's code of conduct\"\n"
   ]
  },
  {
   "cell_type": "code",
   "execution_count": null,
   "metadata": {},
   "outputs": [],
   "source": [
    "print(\"I will abide by Emory's code of conduct\")\n",
    "\n",
    "\n"
   ]
  },
  {
   "attachments": {},
   "cell_type": "markdown",
   "metadata": {},
   "source": [
    "<font size = \"5\">\n",
    "\n",
    "Import the libraries \"numpy\", \"matplotlib.pytplot\", and \"pandas\""
   ]
  },
  {
   "cell_type": "code",
   "execution_count": 4,
   "metadata": {},
   "outputs": [],
   "source": [
    "import numpy as np\n",
    "import pandas as pd\n",
    "import matplotlib.pyplot as plt\n",
    "\n",
    "\n",
    "\n"
   ]
  },
  {
   "attachments": {},
   "cell_type": "markdown",
   "metadata": {},
   "source": [
    "<font size = \"5\">\n",
    "\n",
    "(a) Transform a list of values and plot it\n",
    "\n",
    "<font size = \"3\">\n",
    "\n",
    "- Create an array with the following values\n",
    "\n",
    "``` vec_x = [-5,-3, 0, 10, 20, 40] ```\n",
    "\n",
    "- Create a new vector ```vec_y``` with the following formula\n",
    "\n",
    "$\\qquad y = [cos(x)]^2$\n",
    "\n",
    "- Produce a scatter plot of \"vec_y\" against \"vec_x\"\n",
    "- Label the axes and the title\n",
    "- Change the color to \"red\", \"green\" or \"purple\" (you choose)\n",
    "\n",
    "Hint: You can use the numpy functions"
   ]
  },
  {
   "cell_type": "code",
   "execution_count": null,
   "metadata": {},
   "outputs": [],
   "source": [
    "vec_x = [-5, -3, 0, 10, 20, 40]\n",
    "vec_y = [np.cos(vec_x)**2]\n",
    "\n",
    "list_vectors = [vec_x, vec_y]\n",
    "\n",
    "plt.scatter(vec_x, vec_y, color = \"red\")\n",
    "plt.ylabel(\"Y\")\n",
    "plt.xlabel(\"X\")\n",
    "plt.title(\"Graph of cos(x)^2\")"
   ]
  },
  {
   "cell_type": "markdown",
   "metadata": {},
   "source": [
    "<font size = \"5\">\n",
    "\n",
    "(b) IF/ELSE statements\n",
    "\n",
    "<font size = \"3\">\n",
    "\n",
    "- Create two lists: \n",
    "\n",
    "``` list_fruits = [\"apple\",\"orange\",\"pear\",\"banana\"] ``` <br>\n",
    "``` list_colors = [\"blue\",\"red\",\"green\",\"orange\"] ```\n",
    "\n",
    "- Create a new variable ``` message = \"orange\" ```\n",
    "- Create an if/else that tests whether ``` message ``` is a <br>\n",
    "fruit and a color.  Print a message if the test is true.\n",
    "\n",
    "HINT: Use the \"in\" command to test whether an element is part <br>\n",
    "of a list (see Lecture 4) \n",
    "\n",
    "\n"
   ]
  },
  {
   "cell_type": "code",
   "execution_count": null,
   "metadata": {},
   "outputs": [],
   "source": [
    "list_fruits = [\"apple\", \"orange\", \"pear\", \"banana\"]\n",
    "list_colors = [\"blue\", \"red\", \"green\", \"orange\"]\n",
    "\n",
    "message = \"orange\"\n",
    "\n",
    "if(message in list_fruits):\n",
    "    if(message in list_colors):\n",
    "        print(True)\n",
    "else:\n",
    "    print(False)\n",
    "\n"
   ]
  },
  {
   "attachments": {},
   "cell_type": "markdown",
   "metadata": {},
   "source": [
    "<font size = \"5\">\n",
    "\n",
    "(c) Plot random variables ...\n",
    "\n",
    "<font size = \"3\">\n",
    "\n",
    "- Let $n = 1000$\n",
    "- Generate \"vec_x\" from a Normal with (loc = 2, scale = 1, size = n)\n",
    "- Generate \"vec_z\" from a chi square with (df = 2, size = n)\n",
    "- Generate \"vex_y\" from a uniform with  (low = 5,high = 10, size = n)\n",
    "- Plot two scatter plots: (vec_y vs vec_x) and (vec_z vs vec_x)\n",
    "    - Label the axes and title\n",
    "    - Each graph should have a different title\n",
    " \n",
    "To get full points, plot the histograms on a single row using the <br>\n",
    "subplots syntax (see Lecture 6)"
   ]
  },
  {
   "cell_type": "code",
   "execution_count": null,
   "metadata": {},
   "outputs": [],
   "source": [
    "n = 1000\n",
    "vec_x = np.random.normal(loc = 2, scale = 1, size = n)\n",
    "vec_z = np.random.chisquare(df = 2, size = n)\n",
    "vec_y = np.random.uniform(low = 5, high = 10, size = n)\n",
    "\n",
    "\n",
    "fig, list_subfig = plt.subplots(1, 2)\n",
    "plt.tight_layout()\n",
    "\n",
    "list_subfig[0].scatter(vec_y, vec_x)\n",
    "list_subfig[0].set_xlabel(\"Values\")\n",
    "list_subfig[0].set_ylabel(\"Frequency\")\n",
    "list_subfig[0].set_title(\"Uniform vs Normal\")\n",
    "\n",
    "list_subfig[1].scatter(vec_z, vec_x)\n",
    "list_subfig[1].set_xlabel(\"Values\")\n",
    "list_subfig[1].set_ylabel(\"Frequency\")\n",
    "list_subfig[1].set_title(\"Chi Square vs Normal\")\n",
    "\n",
    "\n",
    "\n"
   ]
  },
  {
   "cell_type": "markdown",
   "metadata": {},
   "source": [
    "<font size = \"5\">\n",
    "\n",
    "(d) Create the following list of months\n",
    "\n",
    "<font size = \"3\">\n",
    "\n",
    "``` list_months = [\"August\",\"February\"] ``` <br>\n",
    "``` list_spring_semester = [\"January\",\"February\", \"March\",\"April\",\"May\"] ```\n",
    "\n",
    "Create a for-loop that checks whether each element of ```list_months ``` <br>\n",
    "belongs to the spring semester. Create a message with this result. The output <br>\n",
    "generated by your loop should look like this:\n",
    "\n",
    "\"August is NOT part of the Spring semester\" <br>\n",
    "\"February is part of the Spring semester\" <br>\n",
    "\n",
    "HINT: Use if/else statements inside the loop. <br>\n",
    "You can use the command \"in\" (see Lecture 4) to test whether <br>\n",
    "an element belongs to a list\n"
   ]
  },
  {
   "cell_type": "code",
   "execution_count": null,
   "metadata": {},
   "outputs": [],
   "source": [
    "list_months = [\"August\", \"February\"]\n",
    "list_spring_semester = [\"January\", \"February\", \"March\", \"April\", \"May\"]\n",
    "\n",
    "for i in list_months:\n",
    "    if i in list_spring_semester:\n",
    "        print(i + \" is part of the Spring Semester\")\n",
    "    else:\n",
    "        print(i + \" is NOT part of the Spring Semester\")\n",
    "\n"
   ]
  },
  {
   "attachments": {},
   "cell_type": "markdown",
   "metadata": {},
   "source": [
    "<font size = \"5\">\n",
    "\n",
    "(e) Loop through dfferent variables and plot\n",
    "\n",
    "\n",
    "<font size = \"3\">\n",
    "\n",
    "- Read the dataset \"data_quiz/wdi_ageprop_2020.csv\"\n",
    "- Create a list of variable names with the following elements:\n",
    "\n",
    "``` list_varnames = [\"percent_ages0to14\",\"percent_ages15to64\"]  ```\n",
    "\n",
    "- Run a for loop that creates a histogram plot for each of the <br>\n",
    "variables on the list\n",
    "\n",
    "    - Label the axes (the y-axis can be called \"Frequency\")\n",
    "    - The loop should automatically create titles that look like this\n",
    "\n",
    "    \"Distribution for percent_ages0to14\" <br>\n",
    "    \"Distribution for percent_ages15to64\"\n",
    "\n",
    "\n",
    "Note: This exercise tells you how much the proportion of the populaton <br>\n",
    "in different ages varies across countries in 2020"
   ]
  },
  {
   "cell_type": "code",
   "execution_count": null,
   "metadata": {},
   "outputs": [],
   "source": [
    "wdi = pd.read_csv('data_quiz/wdi_ageprop_2020.csv')\n",
    "list_varnames = [\"percent_ages0to14\", \"percent_ages15to64\"]\n",
    "\n",
    "for i in list_varnames:\n",
    "    plt.hist(x = wdi[i])\n",
    "    plt.title(i)\n",
    "    plt.ylabel(\"Frequency\")\n",
    "    plt.show()\n",
    "\n"
   ]
  },
  {
   "cell_type": "markdown",
   "metadata": {},
   "source": [
    "<font size = \"5\">\n",
    "\n",
    "(f) Run loop through different datasets and compute statistics\n",
    "\n",
    "<font size = \"3\">\n",
    "\n",
    "- Create a list with the \".csv\" dataset names (including their relative subfolder \"data_quiz/)\n",
    "- Run a for-loop over the list of dataset names. Inside the loop:\n",
    "    - Read the corresponding \".csv\" dataset.\n",
    "    - Print the mean of the variable \"percent_ages0to14\" in <br>\n",
    "    each dataset\n",
    "\n",
    "Note: This exercise tells you how much the proportion of the <br>\n",
    "population that is between 0 and 14 has varied <br>\n",
    "from year to year using real data from the World Development Index.\n",
    "\n"
   ]
  },
  {
   "cell_type": "code",
   "execution_count": 6,
   "metadata": {},
   "outputs": [
    {
     "name": "stdout",
     "output_type": "stream",
     "text": [
      "36.82095078354717\n",
      "32.17265501184906\n",
      "26.90657125728302\n"
     ]
    }
   ],
   "source": [
    "\n",
    "list_wdi = ['wdi_ageprop_1980.csv', 'wdi_ageprop_2000.csv', 'wdi_ageprop_2020.csv']\n",
    "for i in list_wdi:\n",
    "    wdi = pd.read_csv('data_quiz/' + i)\n",
    "    print(np.mean(wdi['percent_ages0to14']))\n",
    "\n",
    "\n",
    "\n",
    "\n"
   ]
  }
 ],
 "metadata": {
  "kernelspec": {
   "display_name": "base",
   "language": "python",
   "name": "python3"
  },
  "language_info": {
   "codemirror_mode": {
    "name": "ipython",
    "version": 3
   },
   "file_extension": ".py",
   "mimetype": "text/x-python",
   "name": "python",
   "nbconvert_exporter": "python",
   "pygments_lexer": "ipython3",
   "version": "3.11.5"
  },
  "orig_nbformat": 4,
  "vscode": {
   "interpreter": {
    "hash": "45fc1f684f6f416f40889115beff3ddf69879b64cf4bfee48cb72a61e9d15d1a"
   }
  }
 },
 "nbformat": 4,
 "nbformat_minor": 2
}
