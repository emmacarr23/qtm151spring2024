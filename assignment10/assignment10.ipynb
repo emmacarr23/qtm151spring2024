{
 "cells": [
  {
   "attachments": {},
   "cell_type": "markdown",
   "metadata": {},
   "source": [
    "# <span style=\"color:darkblue\"> QTM 151 - Assignment 10 </span>"
   ]
  },
  {
   "attachments": {},
   "cell_type": "markdown",
   "metadata": {},
   "source": [
    "## Try to submit as an HTML file"
   ]
  },
  {
   "attachments": {},
   "cell_type": "markdown",
   "metadata": {},
   "source": [
    "<font size=\"5\"> \n",
    "\n",
    "Print your name below"
   ]
  },
  {
   "cell_type": "code",
   "execution_count": 2,
   "metadata": {},
   "outputs": [
    {
     "name": "stdout",
     "output_type": "stream",
     "text": [
      "Emma Carrier\n"
     ]
    }
   ],
   "source": [
    "print('Emma Carrier')"
   ]
  },
  {
   "attachments": {},
   "cell_type": "markdown",
   "metadata": {},
   "source": [
    "<font size = \"5\">\n",
    "\n",
    "Import the libraries \"matplotlib.pyplot\" and \"pandas\""
   ]
  },
  {
   "cell_type": "code",
   "execution_count": 3,
   "metadata": {},
   "outputs": [],
   "source": [
    "import pandas as pd\n",
    "import matplotlib.pyplot as plt\n",
    "\n"
   ]
  },
  {
   "attachments": {},
   "cell_type": "markdown",
   "metadata": {},
   "source": [
    "<font size = \"5\">\n",
    "\n",
    "In this assigment you will work with data on exchange rates, <br>\n",
    "for two currencies:\n",
    "\n",
    "- 1 dollar (USD) to chinese yuan (RMB)\n",
    "- 1 dollar (USD) to japanese yen (JPY).\n",
    "\n",
    "For this lecture, you will need the material from <br>\n",
    "Lecture 20 and 22."
   ]
  },
  {
   "attachments": {},
   "cell_type": "markdown",
   "metadata": {},
   "source": [
    "\n",
    "<font size = \"5\">\n",
    "\n",
    "(a) Import and parse dates\n",
    "\n",
    "<font size = \"3\">\n",
    "\n",
    "- Import the dataset \"exchangerates.csv\"\n",
    "- Parse the \"date_string\" column with ```pd.to_datetime()```\n",
    "- To get full points, set the \"format\" option using wildcards as in Lecture 21.\n"
   ]
  },
  {
   "cell_type": "code",
   "execution_count": 9,
   "metadata": {},
   "outputs": [
    {
     "data": {
      "text/html": [
       "<div>\n",
       "<style scoped>\n",
       "    .dataframe tbody tr th:only-of-type {\n",
       "        vertical-align: middle;\n",
       "    }\n",
       "\n",
       "    .dataframe tbody tr th {\n",
       "        vertical-align: top;\n",
       "    }\n",
       "\n",
       "    .dataframe thead th {\n",
       "        text-align: right;\n",
       "    }\n",
       "</style>\n",
       "<table border=\"1\" class=\"dataframe\">\n",
       "  <thead>\n",
       "    <tr style=\"text-align: right;\">\n",
       "      <th></th>\n",
       "      <th>date_string</th>\n",
       "      <th>usd_to_rmb</th>\n",
       "      <th>usd_to_jpy</th>\n",
       "    </tr>\n",
       "  </thead>\n",
       "  <tbody>\n",
       "    <tr>\n",
       "      <th>0</th>\n",
       "      <td>1981, Friday, Jan 02</td>\n",
       "      <td>1.5341</td>\n",
       "      <td>202.50</td>\n",
       "    </tr>\n",
       "    <tr>\n",
       "      <th>1</th>\n",
       "      <td>1981, Monday, Jan 05</td>\n",
       "      <td>1.5418</td>\n",
       "      <td>199.05</td>\n",
       "    </tr>\n",
       "    <tr>\n",
       "      <th>2</th>\n",
       "      <td>1981, Tuesday, Jan 06</td>\n",
       "      <td>1.5264</td>\n",
       "      <td>199.70</td>\n",
       "    </tr>\n",
       "    <tr>\n",
       "      <th>3</th>\n",
       "      <td>1981, Wednesday, Jan 07</td>\n",
       "      <td>1.5264</td>\n",
       "      <td>201.05</td>\n",
       "    </tr>\n",
       "    <tr>\n",
       "      <th>4</th>\n",
       "      <td>1981, Thursday, Jan 08</td>\n",
       "      <td>1.5264</td>\n",
       "      <td>201.70</td>\n",
       "    </tr>\n",
       "    <tr>\n",
       "      <th>...</th>\n",
       "      <td>...</td>\n",
       "      <td>...</td>\n",
       "      <td>...</td>\n",
       "    </tr>\n",
       "    <tr>\n",
       "      <th>11016</th>\n",
       "      <td>2023, Monday, Mar 27</td>\n",
       "      <td>6.8834</td>\n",
       "      <td>131.49</td>\n",
       "    </tr>\n",
       "    <tr>\n",
       "      <th>11017</th>\n",
       "      <td>2023, Tuesday, Mar 28</td>\n",
       "      <td>6.8725</td>\n",
       "      <td>130.97</td>\n",
       "    </tr>\n",
       "    <tr>\n",
       "      <th>11018</th>\n",
       "      <td>2023, Wednesday, Mar 29</td>\n",
       "      <td>6.8862</td>\n",
       "      <td>132.69</td>\n",
       "    </tr>\n",
       "    <tr>\n",
       "      <th>11019</th>\n",
       "      <td>2023, Thursday, Mar 30</td>\n",
       "      <td>6.8700</td>\n",
       "      <td>132.71</td>\n",
       "    </tr>\n",
       "    <tr>\n",
       "      <th>11020</th>\n",
       "      <td>2023, Friday, Mar 31</td>\n",
       "      <td>6.8676</td>\n",
       "      <td>132.75</td>\n",
       "    </tr>\n",
       "  </tbody>\n",
       "</table>\n",
       "<p>11021 rows × 3 columns</p>\n",
       "</div>"
      ],
      "text/plain": [
       "                   date_string  usd_to_rmb  usd_to_jpy\n",
       "0         1981, Friday, Jan 02      1.5341      202.50\n",
       "1         1981, Monday, Jan 05      1.5418      199.05\n",
       "2        1981, Tuesday, Jan 06      1.5264      199.70\n",
       "3      1981, Wednesday, Jan 07      1.5264      201.05\n",
       "4       1981, Thursday, Jan 08      1.5264      201.70\n",
       "...                        ...         ...         ...\n",
       "11016     2023, Monday, Mar 27      6.8834      131.49\n",
       "11017    2023, Tuesday, Mar 28      6.8725      130.97\n",
       "11018  2023, Wednesday, Mar 29      6.8862      132.69\n",
       "11019   2023, Thursday, Mar 30      6.8700      132.71\n",
       "11020     2023, Friday, Mar 31      6.8676      132.75\n",
       "\n",
       "[11021 rows x 3 columns]"
      ]
     },
     "metadata": {},
     "output_type": "display_data"
    },
    {
     "data": {
      "text/html": [
       "<div>\n",
       "<style scoped>\n",
       "    .dataframe tbody tr th:only-of-type {\n",
       "        vertical-align: middle;\n",
       "    }\n",
       "\n",
       "    .dataframe tbody tr th {\n",
       "        vertical-align: top;\n",
       "    }\n",
       "\n",
       "    .dataframe thead th {\n",
       "        text-align: right;\n",
       "    }\n",
       "</style>\n",
       "<table border=\"1\" class=\"dataframe\">\n",
       "  <thead>\n",
       "    <tr style=\"text-align: right;\">\n",
       "      <th></th>\n",
       "      <th>date_string</th>\n",
       "      <th>usd_to_rmb</th>\n",
       "      <th>usd_to_jpy</th>\n",
       "      <th>date</th>\n",
       "    </tr>\n",
       "  </thead>\n",
       "  <tbody>\n",
       "    <tr>\n",
       "      <th>0</th>\n",
       "      <td>1981, Friday, Jan 02</td>\n",
       "      <td>1.5341</td>\n",
       "      <td>202.50</td>\n",
       "      <td>1981-01-02</td>\n",
       "    </tr>\n",
       "    <tr>\n",
       "      <th>1</th>\n",
       "      <td>1981, Monday, Jan 05</td>\n",
       "      <td>1.5418</td>\n",
       "      <td>199.05</td>\n",
       "      <td>1981-01-05</td>\n",
       "    </tr>\n",
       "    <tr>\n",
       "      <th>2</th>\n",
       "      <td>1981, Tuesday, Jan 06</td>\n",
       "      <td>1.5264</td>\n",
       "      <td>199.70</td>\n",
       "      <td>1981-01-06</td>\n",
       "    </tr>\n",
       "    <tr>\n",
       "      <th>3</th>\n",
       "      <td>1981, Wednesday, Jan 07</td>\n",
       "      <td>1.5264</td>\n",
       "      <td>201.05</td>\n",
       "      <td>1981-01-07</td>\n",
       "    </tr>\n",
       "    <tr>\n",
       "      <th>4</th>\n",
       "      <td>1981, Thursday, Jan 08</td>\n",
       "      <td>1.5264</td>\n",
       "      <td>201.70</td>\n",
       "      <td>1981-01-08</td>\n",
       "    </tr>\n",
       "    <tr>\n",
       "      <th>...</th>\n",
       "      <td>...</td>\n",
       "      <td>...</td>\n",
       "      <td>...</td>\n",
       "      <td>...</td>\n",
       "    </tr>\n",
       "    <tr>\n",
       "      <th>11016</th>\n",
       "      <td>2023, Monday, Mar 27</td>\n",
       "      <td>6.8834</td>\n",
       "      <td>131.49</td>\n",
       "      <td>2023-03-27</td>\n",
       "    </tr>\n",
       "    <tr>\n",
       "      <th>11017</th>\n",
       "      <td>2023, Tuesday, Mar 28</td>\n",
       "      <td>6.8725</td>\n",
       "      <td>130.97</td>\n",
       "      <td>2023-03-28</td>\n",
       "    </tr>\n",
       "    <tr>\n",
       "      <th>11018</th>\n",
       "      <td>2023, Wednesday, Mar 29</td>\n",
       "      <td>6.8862</td>\n",
       "      <td>132.69</td>\n",
       "      <td>2023-03-29</td>\n",
       "    </tr>\n",
       "    <tr>\n",
       "      <th>11019</th>\n",
       "      <td>2023, Thursday, Mar 30</td>\n",
       "      <td>6.8700</td>\n",
       "      <td>132.71</td>\n",
       "      <td>2023-03-30</td>\n",
       "    </tr>\n",
       "    <tr>\n",
       "      <th>11020</th>\n",
       "      <td>2023, Friday, Mar 31</td>\n",
       "      <td>6.8676</td>\n",
       "      <td>132.75</td>\n",
       "      <td>2023-03-31</td>\n",
       "    </tr>\n",
       "  </tbody>\n",
       "</table>\n",
       "<p>11021 rows × 4 columns</p>\n",
       "</div>"
      ],
      "text/plain": [
       "                   date_string  usd_to_rmb  usd_to_jpy       date\n",
       "0         1981, Friday, Jan 02      1.5341      202.50 1981-01-02\n",
       "1         1981, Monday, Jan 05      1.5418      199.05 1981-01-05\n",
       "2        1981, Tuesday, Jan 06      1.5264      199.70 1981-01-06\n",
       "3      1981, Wednesday, Jan 07      1.5264      201.05 1981-01-07\n",
       "4       1981, Thursday, Jan 08      1.5264      201.70 1981-01-08\n",
       "...                        ...         ...         ...        ...\n",
       "11016     2023, Monday, Mar 27      6.8834      131.49 2023-03-27\n",
       "11017    2023, Tuesday, Mar 28      6.8725      130.97 2023-03-28\n",
       "11018  2023, Wednesday, Mar 29      6.8862      132.69 2023-03-29\n",
       "11019   2023, Thursday, Mar 30      6.8700      132.71 2023-03-30\n",
       "11020     2023, Friday, Mar 31      6.8676      132.75 2023-03-31\n",
       "\n",
       "[11021 rows x 4 columns]"
      ]
     },
     "metadata": {},
     "output_type": "display_data"
    }
   ],
   "source": [
    "exchange_rates = pd.read_csv('data_raw/exchangerates.csv')\n",
    "display(exchange_rates)\n",
    "exchange_rates['date'] = pd.to_datetime(exchange_rates['date_string'], format = '%Y, %A, %b %d')\n",
    "display(exchange_rates)\n",
    "\n"
   ]
  },
  {
   "attachments": {},
   "cell_type": "markdown",
   "metadata": {},
   "source": [
    "<font size = \"5\">\n",
    "\n",
    "(b) Plot multiple time series\n",
    "\n",
    "<font size = \"3\">\n",
    "\n",
    "- Create a line plot plot which has the \"usd_to_rmb\" and \"usd_to_jpy\" on the y-axis <br>\n",
    "and the date on the x-axis\n",
    "- Label the x-axis, the y-axis, and the title\n",
    "- Add a legend and set the names to \"1 USD to RMB\" and \"1 USD to JPY\"\n",
    "\n",
    "Hint: See Lecture 22 for how to plot multiple columns <br>\n",
    "Hint: Remember to include the legend names as a list ```[...]```\n"
   ]
  },
  {
   "cell_type": "code",
   "execution_count": 5,
   "metadata": {},
   "outputs": [
    {
     "data": {
      "text/plain": [
       "<matplotlib.legend.Legend at 0x1bb5732edd0>"
      ]
     },
     "execution_count": 5,
     "metadata": {},
     "output_type": "execute_result"
    },
    {
     "data": {
      "text/plain": [
       "<Figure size 1000x600 with 0 Axes>"
      ]
     },
     "metadata": {},
     "output_type": "display_data"
    },
    {
     "data": {
      "image/png": "[encoded data removed]",
      "text/plain": [
       "<Figure size 640x480 with 1 Axes>"
      ]
     },
     "metadata": {},
     "output_type": "display_data"
    }
   ],
   "source": [
    "plt.figure(figsize=(10,6))\n",
    "\n",
    "exchange_rates.plot('date', y=['usd_to_rmb', 'usd_to_jpy'])\n",
    "\n",
    "plt.xlabel('Date')\n",
    "plt.ylabel('Exchange Rate')\n",
    "plt.title('Exchange Rates: USD to RMB and JPY')\n",
    "\n",
    "plt.legend(['1 USD to RMB', '1 USD to JPY'])\n"
   ]
  },
  {
   "attachments": {},
   "cell_type": "markdown",
   "metadata": {},
   "source": [
    "<font size = \"5\">\n",
    "\n",
    "(c) Flag subset of data and plot\n",
    "\n",
    "<font size = \"3\">\n",
    "\n",
    "- Create a boolean vector (True/False) \"bool_cond\" which checks whether <br>\n",
    "\"usd_to_jpy\" is below 100\n",
    "- Generate a line plot with the \"usd_to_jpy\" series, label the axes and the title\n",
    "- Use the command ```plt.fill_between()``` as in Lecture 22 to create a shaded region <br>\n",
    "for time periods where \"bool_cond\" is true.\n",
    "\n"
   ]
  },
  {
   "cell_type": "code",
   "execution_count": 6,
   "metadata": {},
   "outputs": [
    {
     "data": {
      "image/png": "[encoded data removed]",
      "text/plain": [
       "<Figure size 1000x600 with 1 Axes>"
      ]
     },
     "metadata": {},
     "output_type": "display_data"
    }
   ],
   "source": [
    "bool_cond = exchange_rates['usd_to_jpy'] < 100\n",
    "\n",
    "plt.figure(figsize=(10, 6))\n",
    "\n",
    "plt.plot(exchange_rates['date'], exchange_rates['usd_to_jpy'], label='USD to JPY')\n",
    "plt.xlabel('Date')\n",
    "plt.ylabel('Exchange Rate')\n",
    "plt.title('Exchange Rate: USD to JPY')\n",
    "\n",
    "plt.fill_between(exchange_rates['date'], exchange_rates['usd_to_jpy'], where=bool_cond, color='orange', alpha=0.3)\n",
    "plt.legend()\n",
    "plt.show()\n",
    "\n",
    "\n"
   ]
  },
  {
   "attachments": {},
   "cell_type": "markdown",
   "metadata": {},
   "source": [
    "<font size = \"5\">\n",
    "\n",
    "(d) Aggregate dataset by time period\n",
    "\n",
    "<font size = \"3\">\n",
    "\n",
    "- Create an object \"month_config\" that uses ```pd.Grouper()```, setting the key to <br>\n",
    "the date column and freq to \"m\" (month)\n",
    "- Follow the instructions in Lecture 21 to compute an aggregate dataset <br>\n",
    "by month which computes the standard deviation of \"usd_to_rmb\"\n",
    "- Display the dataset\n",
    "\n",
    "\n"
   ]
  },
  {
   "cell_type": "code",
   "execution_count": 7,
   "metadata": {},
   "outputs": [
    {
     "data": {
      "text/plain": [
       "date\n",
       "1981-01-31    0.019149\n",
       "1981-02-28    0.015432\n",
       "1981-03-31    0.012636\n",
       "1981-04-30    0.017154\n",
       "1981-05-31    0.017583\n",
       "                ...   \n",
       "2022-11-30    0.077405\n",
       "2022-12-31    0.028203\n",
       "2023-01-31    0.052152\n",
       "2023-02-28    0.067344\n",
       "2023-03-31    0.034796\n",
       "Freq: M, Name: usd_to_rmb, Length: 507, dtype: float64"
      ]
     },
     "metadata": {},
     "output_type": "display_data"
    }
   ],
   "source": [
    "month_config = pd.Grouper(key = 'date', freq = 'M')\n",
    "monthly_std = exchange_rates.groupby(month_config)['usd_to_rmb'].std()\n",
    "\n",
    "display(monthly_std)\n"
   ]
  },
  {
   "attachments": {},
   "cell_type": "markdown",
   "metadata": {},
   "source": [
    "<font size = \"5\">\n",
    "\n",
    "(e) Convert a dataset to long format\n",
    "\n",
    "<font size = \"3\">\n",
    "\n",
    "- Convert the currencies dataset to long format using the following inputs\n",
    "\n",
    "```\n",
    "var_name   = \"type\",\n",
    "value_name = \"exchange_rate\",\n",
    "id_vars    = \"date\",\n",
    "value_vars = [\"usd_to_rmb\",\"usd_to_jpy\"]\n",
    "```\n",
    "\n",
    "- Display the dataset\n",
    "\n",
    "Hint: See Lecture 22 for details on ```pd.melt()```"
   ]
  },
  {
   "cell_type": "code",
   "execution_count": 8,
   "metadata": {},
   "outputs": [
    {
     "data": {
      "text/html": [
       "<div>\n",
       "<style scoped>\n",
       "    .dataframe tbody tr th:only-of-type {\n",
       "        vertical-align: middle;\n",
       "    }\n",
       "\n",
       "    .dataframe tbody tr th {\n",
       "        vertical-align: top;\n",
       "    }\n",
       "\n",
       "    .dataframe thead th {\n",
       "        text-align: right;\n",
       "    }\n",
       "</style>\n",
       "<table border=\"1\" class=\"dataframe\">\n",
       "  <thead>\n",
       "    <tr style=\"text-align: right;\">\n",
       "      <th></th>\n",
       "      <th>date</th>\n",
       "      <th>type</th>\n",
       "      <th>exchange_rate</th>\n",
       "    </tr>\n",
       "  </thead>\n",
       "  <tbody>\n",
       "    <tr>\n",
       "      <th>0</th>\n",
       "      <td>1981-01-02</td>\n",
       "      <td>usd_to_rmb</td>\n",
       "      <td>1.5341</td>\n",
       "    </tr>\n",
       "    <tr>\n",
       "      <th>1</th>\n",
       "      <td>1981-01-05</td>\n",
       "      <td>usd_to_rmb</td>\n",
       "      <td>1.5418</td>\n",
       "    </tr>\n",
       "    <tr>\n",
       "      <th>2</th>\n",
       "      <td>1981-01-06</td>\n",
       "      <td>usd_to_rmb</td>\n",
       "      <td>1.5264</td>\n",
       "    </tr>\n",
       "    <tr>\n",
       "      <th>3</th>\n",
       "      <td>1981-01-07</td>\n",
       "      <td>usd_to_rmb</td>\n",
       "      <td>1.5264</td>\n",
       "    </tr>\n",
       "    <tr>\n",
       "      <th>4</th>\n",
       "      <td>1981-01-08</td>\n",
       "      <td>usd_to_rmb</td>\n",
       "      <td>1.5264</td>\n",
       "    </tr>\n",
       "    <tr>\n",
       "      <th>...</th>\n",
       "      <td>...</td>\n",
       "      <td>...</td>\n",
       "      <td>...</td>\n",
       "    </tr>\n",
       "    <tr>\n",
       "      <th>22037</th>\n",
       "      <td>2023-03-27</td>\n",
       "      <td>usd_to_jpy</td>\n",
       "      <td>131.4900</td>\n",
       "    </tr>\n",
       "    <tr>\n",
       "      <th>22038</th>\n",
       "      <td>2023-03-28</td>\n",
       "      <td>usd_to_jpy</td>\n",
       "      <td>130.9700</td>\n",
       "    </tr>\n",
       "    <tr>\n",
       "      <th>22039</th>\n",
       "      <td>2023-03-29</td>\n",
       "      <td>usd_to_jpy</td>\n",
       "      <td>132.6900</td>\n",
       "    </tr>\n",
       "    <tr>\n",
       "      <th>22040</th>\n",
       "      <td>2023-03-30</td>\n",
       "      <td>usd_to_jpy</td>\n",
       "      <td>132.7100</td>\n",
       "    </tr>\n",
       "    <tr>\n",
       "      <th>22041</th>\n",
       "      <td>2023-03-31</td>\n",
       "      <td>usd_to_jpy</td>\n",
       "      <td>132.7500</td>\n",
       "    </tr>\n",
       "  </tbody>\n",
       "</table>\n",
       "<p>22042 rows × 3 columns</p>\n",
       "</div>"
      ],
      "text/plain": [
       "            date        type  exchange_rate\n",
       "0     1981-01-02  usd_to_rmb         1.5341\n",
       "1     1981-01-05  usd_to_rmb         1.5418\n",
       "2     1981-01-06  usd_to_rmb         1.5264\n",
       "3     1981-01-07  usd_to_rmb         1.5264\n",
       "4     1981-01-08  usd_to_rmb         1.5264\n",
       "...          ...         ...            ...\n",
       "22037 2023-03-27  usd_to_jpy       131.4900\n",
       "22038 2023-03-28  usd_to_jpy       130.9700\n",
       "22039 2023-03-29  usd_to_jpy       132.6900\n",
       "22040 2023-03-30  usd_to_jpy       132.7100\n",
       "22041 2023-03-31  usd_to_jpy       132.7500\n",
       "\n",
       "[22042 rows x 3 columns]"
      ]
     },
     "metadata": {},
     "output_type": "display_data"
    }
   ],
   "source": [
    "var_name = 'type'\n",
    "value_name = 'exchange_rate'\n",
    "id_vars = 'date'\n",
    "value_vars = ['usd_to_rmb', 'usd_to_jpy']\n",
    "\n",
    "long_df = pd.melt(exchange_rates, id_vars, value_vars, var_name, value_name)\n",
    "\n",
    "display(long_df)\n",
    "\n",
    "\n"
   ]
  }
 ],
 "metadata": {
  "kernelspec": {
   "display_name": "base",
   "language": "python",
   "name": "python3"
  },
  "language_info": {
   "codemirror_mode": {
    "name": "ipython",
    "version": 3
   },
   "file_extension": ".py",
   "mimetype": "text/x-python",
   "name": "python",
   "nbconvert_exporter": "python",
   "pygments_lexer": "ipython3",
   "version": "3.11.5"
  },
  "orig_nbformat": 4,
  "vscode": {
   "interpreter": {
    "hash": "45fc1f684f6f416f40889115beff3ddf69879b64cf4bfee48cb72a61e9d15d1a"
   }
  }
 },
 "nbformat": 4,
 "nbformat_minor": 2
}
